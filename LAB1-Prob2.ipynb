{
 "cells": [
  {
   "cell_type": "markdown",
   "metadata": {},
   "source": [
    "Installing and using the package twitteR to access twitter data using twitter API.\n",
    "Installing and using the package ggmap to access the function geocode()."
   ]
  },
  {
   "cell_type": "code",
   "execution_count": 3,
   "metadata": {
    "collapsed": false
   },
   "outputs": [
    {
     "name": "stderr",
     "output_type": "stream",
     "text": [
      "Installing package into ‘/home/aniruddh/R/x86_64-pc-linux-gnu-library/3.3’\n",
      "(as ‘lib’ is unspecified)\n",
      "Installing package into ‘/home/aniruddh/R/x86_64-pc-linux-gnu-library/3.3’\n",
      "(as ‘lib’ is unspecified)\n",
      "Loading required package: ggplot2\n"
     ]
    }
   ],
   "source": [
    "install.packages(\"twitteR\")\n",
    "install.packages(\"ggmap\")\n",
    "library(ggmap)\n",
    "library(twitteR)"
   ]
  },
  {
   "cell_type": "markdown",
   "metadata": {},
   "source": [
    "Doing the oauth authentication to connect to the twitter API.\n",
    "The function setup_twitter_oauth() is used to do the authentication and setup the connection.\n",
    "api key, api secret, access token, and access token secret are passsed as arguments to this function."
   ]
  },
  {
   "cell_type": "code",
   "execution_count": 4,
   "metadata": {
    "collapsed": false
   },
   "outputs": [
    {
     "name": "stdout",
     "output_type": "stream",
     "text": [
      "[1] \"Using direct authentication\"\n"
     ]
    }
   ],
   "source": [
    "api_key <- \"7ICGxNJPdbosOA67rorrJ1i9W\"\n",
    "api_secret <- \"CGLcEPnJ8ZeQquy18jUjMzQK5xlDhLcRu4shtCnoTthrmU99IM\"\n",
    "access_token <- \"771783467029917697-Du28kI7XpoKSeFRHnUy1rK4ANM6IZ5T\"\n",
    "access_token_secret <- \"yg6spi2gpaFgbuxP0bBlr1Z0rjl2cMX9HwyXTW4Gqig3v\"\n",
    "setup_twitter_oauth(api_key,api_secret,access_token,access_token_secret)"
   ]
  },
  {
   "cell_type": "markdown",
   "metadata": {},
   "source": [
    "The variable 'location' stores the value of location around which we will serach for naerby trending topics. "
   ]
  },
  {
   "cell_type": "code",
   "execution_count": 5,
   "metadata": {
    "collapsed": true
   },
   "outputs": [],
   "source": [
    "location=\"mumbai\""
   ]
  },
  {
   "cell_type": "markdown",
   "metadata": {},
   "source": [
    "The location is then passed to the function geocode(), to get the corresponding location cordinated."
   ]
  },
  {
   "cell_type": "code",
   "execution_count": 6,
   "metadata": {
    "collapsed": false
   },
   "outputs": [
    {
     "name": "stderr",
     "output_type": "stream",
     "text": [
      "Information from URL : http://maps.googleapis.com/maps/api/geocode/json?address=mumbai&sensor=false\n"
     ]
    },
    {
     "data": {
      "text/html": [
       "<table>\n",
       "<thead><tr><th scope=col>lon</th><th scope=col>lat</th></tr></thead>\n",
       "<tbody>\n",
       "\t<tr><td>72.87766</td><td>19.07598</td></tr>\n",
       "</tbody>\n",
       "</table>\n"
      ],
      "text/latex": [
       "\\begin{tabular}{r|ll}\n",
       " lon & lat\\\\\n",
       "\\hline\n",
       "\t 72.87766 & 19.07598\\\\\n",
       "\\end{tabular}\n"
      ],
      "text/markdown": [
       "\n",
       "lon | lat | \n",
       "|---|\n",
       "| 72.87766 | 19.07598 | \n",
       "\n",
       "\n"
      ],
      "text/plain": [
       "  lon      lat     \n",
       "1 72.87766 19.07598"
      ]
     },
     "metadata": {},
     "output_type": "display_data"
    }
   ],
   "source": [
    "cordinates=geocode(location)\n",
    "cordinates"
   ]
  },
  {
   "cell_type": "markdown",
   "metadata": {},
   "source": [
    "Location cordinates are then passed to the function closestTrendLocations() to get all the treding locations nearby.\n",
    "The returned data is then stored into df."
   ]
  },
  {
   "cell_type": "code",
   "execution_count": 7,
   "metadata": {
    "collapsed": false
   },
   "outputs": [
    {
     "data": {
      "text/html": [
       "<table>\n",
       "<thead><tr><th scope=col>name</th><th scope=col>country</th><th scope=col>woeid</th></tr></thead>\n",
       "<tbody>\n",
       "\t<tr><td>Mumbai </td><td>India  </td><td>2295411</td></tr>\n",
       "</tbody>\n",
       "</table>\n"
      ],
      "text/latex": [
       "\\begin{tabular}{r|lll}\n",
       " name & country & woeid\\\\\n",
       "\\hline\n",
       "\t Mumbai  & India   & 2295411\\\\\n",
       "\\end{tabular}\n"
      ],
      "text/markdown": [
       "\n",
       "name | country | woeid | \n",
       "|---|\n",
       "| Mumbai  | India   | 2295411 | \n",
       "\n",
       "\n"
      ],
      "text/plain": [
       "  name   country woeid  \n",
       "1 Mumbai India   2295411"
      ]
     },
     "metadata": {},
     "output_type": "display_data"
    }
   ],
   "source": [
    "df=closestTrendLocations(cordinates$lat,cordinates$lon)\n",
    "df"
   ]
  },
  {
   "cell_type": "markdown",
   "metadata": {},
   "source": [
    "The 'woeid' of all the locations are then passed to the function getTrends() in order to get all the nearby trending topics."
   ]
  },
  {
   "cell_type": "code",
   "execution_count": 8,
   "metadata": {
    "collapsed": false
   },
   "outputs": [
    {
     "data": {
      "text/html": [
       "<table>\n",
       "<thead><tr><th scope=col>name</th><th scope=col>url</th><th scope=col>query</th><th scope=col>woeid</th></tr></thead>\n",
       "<tbody>\n",
       "\t<tr><td>#JioFilmfareAwards                                                                                                                                                                 </td><td>http://twitter.com/search?q=%23JioFilmfareAwards                                                                                                                                   </td><td>%23JioFilmfareAwards                                                                                                                                                               </td><td>2295411                                                                                                                                                                            </td></tr>\n",
       "\t<tr><td>#floortest                                                                                                                                                                         </td><td>http://twitter.com/search?q=%23floortest                                                                                                                                           </td><td>%23floortest                                                                                                                                                                       </td><td>2295411                                                                                                                                                                            </td></tr>\n",
       "\t<tr><td>#INDAvAUS                                                                                                                                                                          </td><td>http://twitter.com/search?q=%23INDAvAUS                                                                                                                                            </td><td>%23INDAvAUS                                                                                                                                                                        </td><td>2295411                                                                                                                                                                            </td></tr>\n",
       "\t<tr><td>Assembly                                                                                                                                                                           </td><td>http://twitter.com/search?q=Assembly                                                                                                                                               </td><td>Assembly                                                                                                                                                                           </td><td>2295411                                                                                                                                                                            </td></tr>\n",
       "\t<tr><td>#HouseOfChaos                                                                                                                                                                      </td><td>http://twitter.com/search?q=%23HouseOfChaos                                                                                                                                        </td><td>%23HouseOfChaos                                                                                                                                                                    </td><td>2295411                                                                                                                                                                            </td></tr>\n",
       "\t<tr><td>#ILoveRisingStar                                                                                                                                                                   </td><td>http://twitter.com/search?q=%23ILoveRisingStar                                                                                                                                     </td><td>%23ILoveRisingStar                                                                                                                                                                 </td><td>2295411                                                                                                                                                                            </td></tr>\n",
       "\t<tr><td>Hamilton                                                                                                                                                                           </td><td>http://twitter.com/search?q=Hamilton                                                                                                                                               </td><td>Hamilton                                                                                                                                                                           </td><td>2295411                                                                                                                                                                            </td></tr>\n",
       "\t<tr><td>Marina Beach                                                                                                                                                                       </td><td>http://twitter.com/search?q=%22Marina+Beach%22                                                                                                                                     </td><td>%22Marina+Beach%22                                                                                                                                                                 </td><td>2295411                                                                                                                                                                            </td></tr>\n",
       "\t<tr><td>तमिलनाडु विधानसभा                                                                                                                                                                   </td><td>http://twitter.com/search?q=%22%E0%A4%A4%E0%A4%AE%E0%A4%BF%E0%A4%B2%E0%A4%A8%E0%A4%BE%E0%A4%A1%E0%A5%81+%E0%A4%B5%E0%A4%BF%E0%A4%A7%E0%A4%BE%E0%A4%A8%E0%A4%B8%E0%A4%AD%E0%A4%BE%22</td><td>%22%E0%A4%A4%E0%A4%AE%E0%A4%BF%E0%A4%B2%E0%A4%A8%E0%A4%BE%E0%A4%A1%E0%A5%81+%E0%A4%B5%E0%A4%BF%E0%A4%A7%E0%A4%BE%E0%A4%A8%E0%A4%B8%E0%A4%AD%E0%A4%BE%22                            </td><td>2295411                                                                                                                                                                            </td></tr>\n",
       "\t<tr><td>JOLLY FIRST HIT OF 2017                                                                                                                                                            </td><td>http://twitter.com/search?q=%22JOLLY+FIRST+HIT+OF+2017%22                                                                                                                          </td><td>%22JOLLY+FIRST+HIT+OF+2017%22                                                                                                                                                      </td><td>2295411                                                                                                                                                                            </td></tr>\n",
       "\t<tr><td>#NeilNitinMukesh                                                                                                                                                                   </td><td>http://twitter.com/search?q=%23NeilNitinMukesh                                                                                                                                     </td><td>%23NeilNitinMukesh                                                                                                                                                                 </td><td>2295411                                                                                                                                                                            </td></tr>\n",
       "\t<tr><td>#UttarPradeshElection2017                                                                                                                                                          </td><td>http://twitter.com/search?q=%23UttarPradeshElection2017                                                                                                                            </td><td>%23UttarPradeshElection2017                                                                                                                                                        </td><td>2295411                                                                                                                                                                            </td></tr>\n",
       "\t<tr><td>#127CrIn9Days                                                                                                                                                                      </td><td>http://twitter.com/search?q=%23127CrIn9Days                                                                                                                                        </td><td>%23127CrIn9Days                                                                                                                                                                    </td><td>2295411                                                                                                                                                                            </td></tr>\n",
       "\t<tr><td>#UPvotes                                                                                                                                                                           </td><td>http://twitter.com/search?q=%23UPvotes                                                                                                                                             </td><td>%23UPvotes                                                                                                                                                                         </td><td>2295411                                                                                                                                                                            </td></tr>\n",
       "\t<tr><td>#ASOTFESTNL                                                                                                                                                                        </td><td>http://twitter.com/search?q=%23ASOTFESTNL                                                                                                                                          </td><td>%23ASOTFESTNL                                                                                                                                                                      </td><td>2295411                                                                                                                                                                            </td></tr>\n",
       "\t<tr><td>#SuperheroesonSonySIX                                                                                                                                                              </td><td>http://twitter.com/search?q=%23SuperheroesonSonySIX                                                                                                                                </td><td>%23SuperheroesonSonySIX                                                                                                                                                            </td><td>2295411                                                                                                                                                                            </td></tr>\n",
       "\t<tr><td>#OPSvsEPS                                                                                                                                                                          </td><td>http://twitter.com/search?q=%23OPSvsEPS                                                                                                                                            </td><td>%23OPSvsEPS                                                                                                                                                                        </td><td>2295411                                                                                                                                                                            </td></tr>\n",
       "\t<tr><td>#UPकीपुकार_BJPइसबार                                                                                                                                                                 </td><td>http://twitter.com/search?q=%23UP%E0%A4%95%E0%A5%80%E0%A4%AA%E0%A5%81%E0%A4%95%E0%A4%BE%E0%A4%B0_BJP%E0%A4%87%E0%A4%B8%E0%A4%AC%E0%A4%BE%E0%A4%B0                                  </td><td>%23UP%E0%A4%95%E0%A5%80%E0%A4%AA%E0%A5%81%E0%A4%95%E0%A4%BE%E0%A4%B0_BJP%E0%A4%87%E0%A4%B8%E0%A4%AC%E0%A4%BE%E0%A4%B0                                                              </td><td>2295411                                                                                                                                                                            </td></tr>\n",
       "\t<tr><td>#गठबंधन_का_पहला_वादा                                                                                                                                                                </td><td>http://twitter.com/search?q=%23%E0%A4%97%E0%A4%A0%E0%A4%AC%E0%A4%82%E0%A4%A7%E0%A4%A8_%E0%A4%95%E0%A4%BE_%E0%A4%AA%E0%A4%B9%E0%A4%B2%E0%A4%BE_%E0%A4%B5%E0%A4%BE%E0%A4%A6%E0%A4%BE </td><td>%23%E0%A4%97%E0%A4%A0%E0%A4%AC%E0%A4%82%E0%A4%A7%E0%A4%A8_%E0%A4%95%E0%A4%BE_%E0%A4%AA%E0%A4%B9%E0%A4%B2%E0%A4%BE_%E0%A4%B5%E0%A4%BE%E0%A4%A6%E0%A4%BE                             </td><td>2295411                                                                                                                                                                            </td></tr>\n",
       "\t<tr><td>#PatanjaliMisleadingConsumers                                                                                                                                                      </td><td>http://twitter.com/search?q=%23PatanjaliMisleadingConsumers                                                                                                                        </td><td>%23PatanjaliMisleadingConsumers                                                                                                                                                    </td><td>2295411                                                                                                                                                                            </td></tr>\n",
       "\t<tr><td>#DJFirstLook                                                                                                                                                                       </td><td>http://twitter.com/search?q=%23DJFirstLook                                                                                                                                         </td><td>%23DJFirstLook                                                                                                                                                                     </td><td>2295411                                                                                                                                                                            </td></tr>\n",
       "\t<tr><td>#BJPSeBetiBachao                                                                                                                                                                   </td><td>http://twitter.com/search?q=%23BJPSeBetiBachao                                                                                                                                     </td><td>%23BJPSeBetiBachao                                                                                                                                                                 </td><td>2295411                                                                                                                                                                            </td></tr>\n",
       "\t<tr><td>#TNWithDMK                                                                                                                                                                         </td><td>http://twitter.com/search?q=%23TNWithDMK                                                                                                                                           </td><td>%23TNWithDMK                                                                                                                                                                       </td><td>2295411                                                                                                                                                                            </td></tr>\n",
       "\t<tr><td>#MUMvBFC                                                                                                                                                                           </td><td>http://twitter.com/search?q=%23MUMvBFC                                                                                                                                             </td><td>%23MUMvBFC                                                                                                                                                                         </td><td>2295411                                                                                                                                                                            </td></tr>\n",
       "\t<tr><td>#MoralPolicingChat                                                                                                                                                                 </td><td>http://twitter.com/search?q=%23MoralPolicingChat                                                                                                                                   </td><td>%23MoralPolicingChat                                                                                                                                                               </td><td>2295411                                                                                                                                                                            </td></tr>\n",
       "\t<tr><td>#MKStalin                                                                                                                                                                          </td><td>http://twitter.com/search?q=%23MKStalin                                                                                                                                            </td><td>%23MKStalin                                                                                                                                                                        </td><td>2295411                                                                                                                                                                            </td></tr>\n",
       "\t<tr><td>#RMFIndia                                                                                                                                                                          </td><td>http://twitter.com/search?q=%23RMFIndia                                                                                                                                            </td><td>%23RMFIndia                                                                                                                                                                        </td><td>2295411                                                                                                                                                                            </td></tr>\n",
       "\t<tr><td>#Ignis                                                                                                                                                                             </td><td>http://twitter.com/search?q=%23Ignis                                                                                                                                               </td><td>%23Ignis                                                                                                                                                                           </td><td>2295411                                                                                                                                                                            </td></tr>\n",
       "\t<tr><td>#HappyHers                                                                                                                                                                         </td><td>http://twitter.com/search?q=%23HappyHers                                                                                                                                           </td><td>%23HappyHers                                                                                                                                                                       </td><td>2295411                                                                                                                                                                            </td></tr>\n",
       "\t<tr><td>#VoiceIndiaLives5                                                                                                                                                                  </td><td>http://twitter.com/search?q=%23VoiceIndiaLives5                                                                                                                                    </td><td>%23VoiceIndiaLives5                                                                                                                                                                </td><td>2295411                                                                                                                                                                            </td></tr>\n",
       "\t<tr><td>#FACup                                                                                                                                                                             </td><td>http://twitter.com/search?q=%23FACup                                                                                                                                               </td><td>%23FACup                                                                                                                                                                           </td><td>2295411                                                                                                                                                                            </td></tr>\n",
       "\t<tr><td>#ProbeBJP_ISI_Link                                                                                                                                                                 </td><td>http://twitter.com/search?q=%23ProbeBJP_ISI_Link                                                                                                                                   </td><td>%23ProbeBJP_ISI_Link                                                                                                                                                               </td><td>2295411                                                                                                                                                                            </td></tr>\n",
       "\t<tr><td>#BJPwaveInUP                                                                                                                                                                       </td><td>http://twitter.com/search?q=%23BJPwaveInUP                                                                                                                                         </td><td>%23BJPwaveInUP                                                                                                                                                                     </td><td>2295411                                                                                                                                                                            </td></tr>\n",
       "\t<tr><td>#JashnERekhta                                                                                                                                                                      </td><td>http://twitter.com/search?q=%23JashnERekhta                                                                                                                                        </td><td>%23JashnERekhta                                                                                                                                                                    </td><td>2295411                                                                                                                                                                            </td></tr>\n",
       "\t<tr><td>#TeamEvans                                                                                                                                                                         </td><td>http://twitter.com/search?q=%23TeamEvans                                                                                                                                           </td><td>%23TeamEvans                                                                                                                                                                       </td><td>2295411                                                                                                                                                                            </td></tr>\n",
       "\t<tr><td>#HafizSaeed                                                                                                                                                                        </td><td>http://twitter.com/search?q=%23HafizSaeed                                                                                                                                          </td><td>%23HafizSaeed                                                                                                                                                                      </td><td>2295411                                                                                                                                                                            </td></tr>\n",
       "\t<tr><td>#MBvDSK                                                                                                                                                                            </td><td>http://twitter.com/search?q=%23MBvDSK                                                                                                                                              </td><td>%23MBvDSK                                                                                                                                                                          </td><td>2295411                                                                                                                                                                            </td></tr>\n",
       "</tbody>\n",
       "</table>\n"
      ],
      "text/latex": [
       "\\begin{tabular}{r|llll}\n",
       " name & url & query & woeid\\\\\n",
       "\\hline\n",
       "\t \\#JioFilmfareAwards                                                                                                                                                                  & http://twitter.com/search?q=\\%23JioFilmfareAwards                                                                                                                                    & \\%23JioFilmfareAwards                                                                                                                                                                & 2295411                                                                                                                                                                              \\\\\n",
       "\t \\#floortest                                                                                                                                                                          & http://twitter.com/search?q=\\%23floortest                                                                                                                                            & \\%23floortest                                                                                                                                                                        & 2295411                                                                                                                                                                              \\\\\n",
       "\t \\#INDAvAUS                                                                                                                                                                           & http://twitter.com/search?q=\\%23INDAvAUS                                                                                                                                             & \\%23INDAvAUS                                                                                                                                                                         & 2295411                                                                                                                                                                              \\\\\n",
       "\t Assembly                                                                                                                                                                            & http://twitter.com/search?q=Assembly                                                                                                                                                & Assembly                                                                                                                                                                            & 2295411                                                                                                                                                                            \\\\\n",
       "\t \\#HouseOfChaos                                                                                                                                                                       & http://twitter.com/search?q=\\%23HouseOfChaos                                                                                                                                         & \\%23HouseOfChaos                                                                                                                                                                     & 2295411                                                                                                                                                                              \\\\\n",
       "\t \\#ILoveRisingStar                                                                                                                                                                    & http://twitter.com/search?q=\\%23ILoveRisingStar                                                                                                                                      & \\%23ILoveRisingStar                                                                                                                                                                  & 2295411                                                                                                                                                                              \\\\\n",
       "\t Hamilton                                                                                                                                                                            & http://twitter.com/search?q=Hamilton                                                                                                                                                & Hamilton                                                                                                                                                                            & 2295411                                                                                                                                                                            \\\\\n",
       "\t Marina Beach                                                                                                                                                                            & http://twitter.com/search?q=\\%22Marina+Beach\\%22                                                                                                                                      & \\%22Marina+Beach\\%22                                                                                                                                                                  & 2295411                                                                                                                                                                                \\\\\n",
       "\t तमिलनाडु विधानसभा                                                                                                                                                                                                                                                                        & http://twitter.com/search?q=\\%22\\%E0\\%A4\\%A4\\%E0\\%A4\\%AE\\%E0\\%A4\\%BF\\%E0\\%A4\\%B2\\%E0\\%A4\\%A8\\%E0\\%A4\\%BE\\%E0\\%A4\\%A1\\%E0\\%A5\\%81+\\%E0\\%A4\\%B5\\%E0\\%A4\\%BF\\%E0\\%A4\\%A7\\%E0\\%A4\\%BE\\%E0\\%A4\\%A8\\%E0\\%A4\\%B8\\%E0\\%A4\\%AD\\%E0\\%A4\\%BE\\%22 & \\%22\\%E0\\%A4\\%A4\\%E0\\%A4\\%AE\\%E0\\%A4\\%BF\\%E0\\%A4\\%B2\\%E0\\%A4\\%A8\\%E0\\%A4\\%BE\\%E0\\%A4\\%A1\\%E0\\%A5\\%81+\\%E0\\%A4\\%B5\\%E0\\%A4\\%BF\\%E0\\%A4\\%A7\\%E0\\%A4\\%BE\\%E0\\%A4\\%A8\\%E0\\%A4\\%B8\\%E0\\%A4\\%AD\\%E0\\%A4\\%BE\\%22                             & 2295411                                                                                                                                                                                                                                                                                \\\\\n",
       "\t JOLLY FIRST HIT OF 2017                                                                                                                                                                 & http://twitter.com/search?q=\\%22JOLLY+FIRST+HIT+OF+2017\\%22                                                                                                                           & \\%22JOLLY+FIRST+HIT+OF+2017\\%22                                                                                                                                                       & 2295411                                                                                                                                                                                \\\\\n",
       "\t \\#NeilNitinMukesh                                                                                                                                                                    & http://twitter.com/search?q=\\%23NeilNitinMukesh                                                                                                                                      & \\%23NeilNitinMukesh                                                                                                                                                                  & 2295411                                                                                                                                                                              \\\\\n",
       "\t \\#UttarPradeshElection2017                                                                                                                                                           & http://twitter.com/search?q=\\%23UttarPradeshElection2017                                                                                                                             & \\%23UttarPradeshElection2017                                                                                                                                                         & 2295411                                                                                                                                                                              \\\\\n",
       "\t \\#127CrIn9Days                                                                                                                                                                       & http://twitter.com/search?q=\\%23127CrIn9Days                                                                                                                                         & \\%23127CrIn9Days                                                                                                                                                                     & 2295411                                                                                                                                                                              \\\\\n",
       "\t \\#UPvotes                                                                                                                                                                            & http://twitter.com/search?q=\\%23UPvotes                                                                                                                                              & \\%23UPvotes                                                                                                                                                                          & 2295411                                                                                                                                                                              \\\\\n",
       "\t \\#ASOTFESTNL                                                                                                                                                                         & http://twitter.com/search?q=\\%23ASOTFESTNL                                                                                                                                           & \\%23ASOTFESTNL                                                                                                                                                                       & 2295411                                                                                                                                                                              \\\\\n",
       "\t \\#SuperheroesonSonySIX                                                                                                                                                               & http://twitter.com/search?q=\\%23SuperheroesonSonySIX                                                                                                                                 & \\%23SuperheroesonSonySIX                                                                                                                                                             & 2295411                                                                                                                                                                              \\\\\n",
       "\t \\#OPSvsEPS                                                                                                                                                                           & http://twitter.com/search?q=\\%23OPSvsEPS                                                                                                                                             & \\%23OPSvsEPS                                                                                                                                                                         & 2295411                                                                                                                                                                              \\\\\n",
       "\t \\#UPकीपुकार\\_BJPइसबार                                                                                                                                                                                                                                          & http://twitter.com/search?q=\\%23UP\\%E0\\%A4\\%95\\%E0\\%A5\\%80\\%E0\\%A4\\%AA\\%E0\\%A5\\%81\\%E0\\%A4\\%95\\%E0\\%A4\\%BE\\%E0\\%A4\\%B0\\_BJP\\%E0\\%A4\\%87\\%E0\\%A4\\%B8\\%E0\\%A4\\%AC\\%E0\\%A4\\%BE\\%E0\\%A4\\%B0                                   & \\%23UP\\%E0\\%A4\\%95\\%E0\\%A5\\%80\\%E0\\%A4\\%AA\\%E0\\%A5\\%81\\%E0\\%A4\\%95\\%E0\\%A4\\%BE\\%E0\\%A4\\%B0\\_BJP\\%E0\\%A4\\%87\\%E0\\%A4\\%B8\\%E0\\%A4\\%AC\\%E0\\%A4\\%BE\\%E0\\%A4\\%B0                                                               & 2295411                                                                                                                                                                                                                                                        \\\\\n",
       "\t \\#गठबंधन\\_का\\_पहला\\_वादा                                                                                                                                                                                                                                                                 & http://twitter.com/search?q=\\%23\\%E0\\%A4\\%97\\%E0\\%A4\\%A0\\%E0\\%A4\\%AC\\%E0\\%A4\\%82\\%E0\\%A4\\%A7\\%E0\\%A4\\%A8\\_\\%E0\\%A4\\%95\\%E0\\%A4\\%BE\\_\\%E0\\%A4\\%AA\\%E0\\%A4\\%B9\\%E0\\%A4\\%B2\\%E0\\%A4\\%BE\\_\\%E0\\%A4\\%B5\\%E0\\%A4\\%BE\\%E0\\%A4\\%A6\\%E0\\%A4\\%BE  & \\%23\\%E0\\%A4\\%97\\%E0\\%A4\\%A0\\%E0\\%A4\\%AC\\%E0\\%A4\\%82\\%E0\\%A4\\%A7\\%E0\\%A4\\%A8\\_\\%E0\\%A4\\%95\\%E0\\%A4\\%BE\\_\\%E0\\%A4\\%AA\\%E0\\%A4\\%B9\\%E0\\%A4\\%B2\\%E0\\%A4\\%BE\\_\\%E0\\%A4\\%B5\\%E0\\%A4\\%BE\\%E0\\%A4\\%A6\\%E0\\%A4\\%BE                              & 2295411                                                                                                                                                                                                                                                                                    \\\\\n",
       "\t \\#PatanjaliMisleadingConsumers                                                                                                                                                       & http://twitter.com/search?q=\\%23PatanjaliMisleadingConsumers                                                                                                                         & \\%23PatanjaliMisleadingConsumers                                                                                                                                                     & 2295411                                                                                                                                                                              \\\\\n",
       "\t \\#DJFirstLook                                                                                                                                                                        & http://twitter.com/search?q=\\%23DJFirstLook                                                                                                                                          & \\%23DJFirstLook                                                                                                                                                                      & 2295411                                                                                                                                                                              \\\\\n",
       "\t \\#BJPSeBetiBachao                                                                                                                                                                    & http://twitter.com/search?q=\\%23BJPSeBetiBachao                                                                                                                                      & \\%23BJPSeBetiBachao                                                                                                                                                                  & 2295411                                                                                                                                                                              \\\\\n",
       "\t \\#TNWithDMK                                                                                                                                                                          & http://twitter.com/search?q=\\%23TNWithDMK                                                                                                                                            & \\%23TNWithDMK                                                                                                                                                                        & 2295411                                                                                                                                                                              \\\\\n",
       "\t \\#MUMvBFC                                                                                                                                                                            & http://twitter.com/search?q=\\%23MUMvBFC                                                                                                                                              & \\%23MUMvBFC                                                                                                                                                                          & 2295411                                                                                                                                                                              \\\\\n",
       "\t \\#MoralPolicingChat                                                                                                                                                                  & http://twitter.com/search?q=\\%23MoralPolicingChat                                                                                                                                    & \\%23MoralPolicingChat                                                                                                                                                                & 2295411                                                                                                                                                                              \\\\\n",
       "\t \\#MKStalin                                                                                                                                                                           & http://twitter.com/search?q=\\%23MKStalin                                                                                                                                             & \\%23MKStalin                                                                                                                                                                         & 2295411                                                                                                                                                                              \\\\\n",
       "\t \\#RMFIndia                                                                                                                                                                           & http://twitter.com/search?q=\\%23RMFIndia                                                                                                                                             & \\%23RMFIndia                                                                                                                                                                         & 2295411                                                                                                                                                                              \\\\\n",
       "\t \\#Ignis                                                                                                                                                                              & http://twitter.com/search?q=\\%23Ignis                                                                                                                                                & \\%23Ignis                                                                                                                                                                            & 2295411                                                                                                                                                                              \\\\\n",
       "\t \\#HappyHers                                                                                                                                                                          & http://twitter.com/search?q=\\%23HappyHers                                                                                                                                            & \\%23HappyHers                                                                                                                                                                        & 2295411                                                                                                                                                                              \\\\\n",
       "\t \\#VoiceIndiaLives5                                                                                                                                                                   & http://twitter.com/search?q=\\%23VoiceIndiaLives5                                                                                                                                     & \\%23VoiceIndiaLives5                                                                                                                                                                 & 2295411                                                                                                                                                                              \\\\\n",
       "\t \\#FACup                                                                                                                                                                              & http://twitter.com/search?q=\\%23FACup                                                                                                                                                & \\%23FACup                                                                                                                                                                            & 2295411                                                                                                                                                                              \\\\\n",
       "\t \\#ProbeBJP\\_ISI\\_Link                                                                                                                                                                  & http://twitter.com/search?q=\\%23ProbeBJP\\_ISI\\_Link                                                                                                                                    & \\%23ProbeBJP\\_ISI\\_Link                                                                                                                                                                & 2295411                                                                                                                                                                                  \\\\\n",
       "\t \\#BJPwaveInUP                                                                                                                                                                        & http://twitter.com/search?q=\\%23BJPwaveInUP                                                                                                                                          & \\%23BJPwaveInUP                                                                                                                                                                      & 2295411                                                                                                                                                                              \\\\\n",
       "\t \\#JashnERekhta                                                                                                                                                                       & http://twitter.com/search?q=\\%23JashnERekhta                                                                                                                                         & \\%23JashnERekhta                                                                                                                                                                     & 2295411                                                                                                                                                                              \\\\\n",
       "\t \\#TeamEvans                                                                                                                                                                          & http://twitter.com/search?q=\\%23TeamEvans                                                                                                                                            & \\%23TeamEvans                                                                                                                                                                        & 2295411                                                                                                                                                                              \\\\\n",
       "\t \\#HafizSaeed                                                                                                                                                                         & http://twitter.com/search?q=\\%23HafizSaeed                                                                                                                                           & \\%23HafizSaeed                                                                                                                                                                       & 2295411                                                                                                                                                                              \\\\\n",
       "\t \\#MBvDSK                                                                                                                                                                             & http://twitter.com/search?q=\\%23MBvDSK                                                                                                                                               & \\%23MBvDSK                                                                                                                                                                           & 2295411                                                                                                                                                                              \\\\\n",
       "\\end{tabular}\n"
      ],
      "text/markdown": [
       "\n",
       "name | url | query | woeid | \n",
       "|---|---|---|---|---|---|---|---|---|---|---|---|---|---|---|---|---|---|---|---|---|---|---|---|---|---|---|---|---|---|---|---|---|---|---|---|---|\n",
       "| #JioFilmfareAwards                                                                                                                                                                  | http://twitter.com/search?q=%23JioFilmfareAwards                                                                                                                                    | %23JioFilmfareAwards                                                                                                                                                                | 2295411                                                                                                                                                                             | \n",
       "| #floortest                                                                                                                                                                          | http://twitter.com/search?q=%23floortest                                                                                                                                            | %23floortest                                                                                                                                                                        | 2295411                                                                                                                                                                             | \n",
       "| #INDAvAUS                                                                                                                                                                           | http://twitter.com/search?q=%23INDAvAUS                                                                                                                                             | %23INDAvAUS                                                                                                                                                                         | 2295411                                                                                                                                                                             | \n",
       "| Assembly                                                                                                                                                                            | http://twitter.com/search?q=Assembly                                                                                                                                                | Assembly                                                                                                                                                                            | 2295411                                                                                                                                                                             | \n",
       "| #HouseOfChaos                                                                                                                                                                       | http://twitter.com/search?q=%23HouseOfChaos                                                                                                                                         | %23HouseOfChaos                                                                                                                                                                     | 2295411                                                                                                                                                                             | \n",
       "| #ILoveRisingStar                                                                                                                                                                    | http://twitter.com/search?q=%23ILoveRisingStar                                                                                                                                      | %23ILoveRisingStar                                                                                                                                                                  | 2295411                                                                                                                                                                             | \n",
       "| Hamilton                                                                                                                                                                            | http://twitter.com/search?q=Hamilton                                                                                                                                                | Hamilton                                                                                                                                                                            | 2295411                                                                                                                                                                             | \n",
       "| Marina Beach                                                                                                                                                                        | http://twitter.com/search?q=%22Marina+Beach%22                                                                                                                                      | %22Marina+Beach%22                                                                                                                                                                  | 2295411                                                                                                                                                                             | \n",
       "| तमिलनाडु विधानसभा                                                                                                                                                                    | http://twitter.com/search?q=%22%E0%A4%A4%E0%A4%AE%E0%A4%BF%E0%A4%B2%E0%A4%A8%E0%A4%BE%E0%A4%A1%E0%A5%81+%E0%A4%B5%E0%A4%BF%E0%A4%A7%E0%A4%BE%E0%A4%A8%E0%A4%B8%E0%A4%AD%E0%A4%BE%22 | %22%E0%A4%A4%E0%A4%AE%E0%A4%BF%E0%A4%B2%E0%A4%A8%E0%A4%BE%E0%A4%A1%E0%A5%81+%E0%A4%B5%E0%A4%BF%E0%A4%A7%E0%A4%BE%E0%A4%A8%E0%A4%B8%E0%A4%AD%E0%A4%BE%22                             | 2295411                                                                                                                                                                             | \n",
       "| JOLLY FIRST HIT OF 2017                                                                                                                                                             | http://twitter.com/search?q=%22JOLLY+FIRST+HIT+OF+2017%22                                                                                                                           | %22JOLLY+FIRST+HIT+OF+2017%22                                                                                                                                                       | 2295411                                                                                                                                                                             | \n",
       "| #NeilNitinMukesh                                                                                                                                                                    | http://twitter.com/search?q=%23NeilNitinMukesh                                                                                                                                      | %23NeilNitinMukesh                                                                                                                                                                  | 2295411                                                                                                                                                                             | \n",
       "| #UttarPradeshElection2017                                                                                                                                                           | http://twitter.com/search?q=%23UttarPradeshElection2017                                                                                                                             | %23UttarPradeshElection2017                                                                                                                                                         | 2295411                                                                                                                                                                             | \n",
       "| #127CrIn9Days                                                                                                                                                                       | http://twitter.com/search?q=%23127CrIn9Days                                                                                                                                         | %23127CrIn9Days                                                                                                                                                                     | 2295411                                                                                                                                                                             | \n",
       "| #UPvotes                                                                                                                                                                            | http://twitter.com/search?q=%23UPvotes                                                                                                                                              | %23UPvotes                                                                                                                                                                          | 2295411                                                                                                                                                                             | \n",
       "| #ASOTFESTNL                                                                                                                                                                         | http://twitter.com/search?q=%23ASOTFESTNL                                                                                                                                           | %23ASOTFESTNL                                                                                                                                                                       | 2295411                                                                                                                                                                             | \n",
       "| #SuperheroesonSonySIX                                                                                                                                                               | http://twitter.com/search?q=%23SuperheroesonSonySIX                                                                                                                                 | %23SuperheroesonSonySIX                                                                                                                                                             | 2295411                                                                                                                                                                             | \n",
       "| #OPSvsEPS                                                                                                                                                                           | http://twitter.com/search?q=%23OPSvsEPS                                                                                                                                             | %23OPSvsEPS                                                                                                                                                                         | 2295411                                                                                                                                                                             | \n",
       "| #UPकीपुकार_BJPइसबार                                                                                                                                                                  | http://twitter.com/search?q=%23UP%E0%A4%95%E0%A5%80%E0%A4%AA%E0%A5%81%E0%A4%95%E0%A4%BE%E0%A4%B0_BJP%E0%A4%87%E0%A4%B8%E0%A4%AC%E0%A4%BE%E0%A4%B0                                   | %23UP%E0%A4%95%E0%A5%80%E0%A4%AA%E0%A5%81%E0%A4%95%E0%A4%BE%E0%A4%B0_BJP%E0%A4%87%E0%A4%B8%E0%A4%AC%E0%A4%BE%E0%A4%B0                                                               | 2295411                                                                                                                                                                             | \n",
       "| #गठबंधन_का_पहला_वादा                                                                                                                                                                 | http://twitter.com/search?q=%23%E0%A4%97%E0%A4%A0%E0%A4%AC%E0%A4%82%E0%A4%A7%E0%A4%A8_%E0%A4%95%E0%A4%BE_%E0%A4%AA%E0%A4%B9%E0%A4%B2%E0%A4%BE_%E0%A4%B5%E0%A4%BE%E0%A4%A6%E0%A4%BE  | %23%E0%A4%97%E0%A4%A0%E0%A4%AC%E0%A4%82%E0%A4%A7%E0%A4%A8_%E0%A4%95%E0%A4%BE_%E0%A4%AA%E0%A4%B9%E0%A4%B2%E0%A4%BE_%E0%A4%B5%E0%A4%BE%E0%A4%A6%E0%A4%BE                              | 2295411                                                                                                                                                                             | \n",
       "| #PatanjaliMisleadingConsumers                                                                                                                                                       | http://twitter.com/search?q=%23PatanjaliMisleadingConsumers                                                                                                                         | %23PatanjaliMisleadingConsumers                                                                                                                                                     | 2295411                                                                                                                                                                             | \n",
       "| #DJFirstLook                                                                                                                                                                        | http://twitter.com/search?q=%23DJFirstLook                                                                                                                                          | %23DJFirstLook                                                                                                                                                                      | 2295411                                                                                                                                                                             | \n",
       "| #BJPSeBetiBachao                                                                                                                                                                    | http://twitter.com/search?q=%23BJPSeBetiBachao                                                                                                                                      | %23BJPSeBetiBachao                                                                                                                                                                  | 2295411                                                                                                                                                                             | \n",
       "| #TNWithDMK                                                                                                                                                                          | http://twitter.com/search?q=%23TNWithDMK                                                                                                                                            | %23TNWithDMK                                                                                                                                                                        | 2295411                                                                                                                                                                             | \n",
       "| #MUMvBFC                                                                                                                                                                            | http://twitter.com/search?q=%23MUMvBFC                                                                                                                                              | %23MUMvBFC                                                                                                                                                                          | 2295411                                                                                                                                                                             | \n",
       "| #MoralPolicingChat                                                                                                                                                                  | http://twitter.com/search?q=%23MoralPolicingChat                                                                                                                                    | %23MoralPolicingChat                                                                                                                                                                | 2295411                                                                                                                                                                             | \n",
       "| #MKStalin                                                                                                                                                                           | http://twitter.com/search?q=%23MKStalin                                                                                                                                             | %23MKStalin                                                                                                                                                                         | 2295411                                                                                                                                                                             | \n",
       "| #RMFIndia                                                                                                                                                                           | http://twitter.com/search?q=%23RMFIndia                                                                                                                                             | %23RMFIndia                                                                                                                                                                         | 2295411                                                                                                                                                                             | \n",
       "| #Ignis                                                                                                                                                                              | http://twitter.com/search?q=%23Ignis                                                                                                                                                | %23Ignis                                                                                                                                                                            | 2295411                                                                                                                                                                             | \n",
       "| #HappyHers                                                                                                                                                                          | http://twitter.com/search?q=%23HappyHers                                                                                                                                            | %23HappyHers                                                                                                                                                                        | 2295411                                                                                                                                                                             | \n",
       "| #VoiceIndiaLives5                                                                                                                                                                   | http://twitter.com/search?q=%23VoiceIndiaLives5                                                                                                                                     | %23VoiceIndiaLives5                                                                                                                                                                 | 2295411                                                                                                                                                                             | \n",
       "| #FACup                                                                                                                                                                              | http://twitter.com/search?q=%23FACup                                                                                                                                                | %23FACup                                                                                                                                                                            | 2295411                                                                                                                                                                             | \n",
       "| #ProbeBJP_ISI_Link                                                                                                                                                                  | http://twitter.com/search?q=%23ProbeBJP_ISI_Link                                                                                                                                    | %23ProbeBJP_ISI_Link                                                                                                                                                                | 2295411                                                                                                                                                                             | \n",
       "| #BJPwaveInUP                                                                                                                                                                        | http://twitter.com/search?q=%23BJPwaveInUP                                                                                                                                          | %23BJPwaveInUP                                                                                                                                                                      | 2295411                                                                                                                                                                             | \n",
       "| #JashnERekhta                                                                                                                                                                       | http://twitter.com/search?q=%23JashnERekhta                                                                                                                                         | %23JashnERekhta                                                                                                                                                                     | 2295411                                                                                                                                                                             | \n",
       "| #TeamEvans                                                                                                                                                                          | http://twitter.com/search?q=%23TeamEvans                                                                                                                                            | %23TeamEvans                                                                                                                                                                        | 2295411                                                                                                                                                                             | \n",
       "| #HafizSaeed                                                                                                                                                                         | http://twitter.com/search?q=%23HafizSaeed                                                                                                                                           | %23HafizSaeed                                                                                                                                                                       | 2295411                                                                                                                                                                             | \n",
       "| #MBvDSK                                                                                                                                                                             | http://twitter.com/search?q=%23MBvDSK                                                                                                                                               | %23MBvDSK                                                                                                                                                                           | 2295411                                                                                                                                                                             | \n",
       "\n",
       "\n"
      ],
      "text/plain": [
       "   name                         \n",
       "1  #JioFilmfareAwards           \n",
       "2  #floortest                   \n",
       "3  #INDAvAUS                    \n",
       "4  Assembly                     \n",
       "5  #HouseOfChaos                \n",
       "6  #ILoveRisingStar             \n",
       "7  Hamilton                     \n",
       "8  Marina Beach                 \n",
       "9  तमिलनाडु विधानसभा             \n",
       "10 JOLLY FIRST HIT OF 2017      \n",
       "11 #NeilNitinMukesh             \n",
       "12 #UttarPradeshElection2017    \n",
       "13 #127CrIn9Days                \n",
       "14 #UPvotes                     \n",
       "15 #ASOTFESTNL                  \n",
       "16 #SuperheroesonSonySIX        \n",
       "17 #OPSvsEPS                    \n",
       "18 #UPकीपुकार_BJPइसबार           \n",
       "19 #गठबंधन_का_पहला_वादा          \n",
       "20 #PatanjaliMisleadingConsumers\n",
       "21 #DJFirstLook                 \n",
       "22 #BJPSeBetiBachao             \n",
       "23 #TNWithDMK                   \n",
       "24 #MUMvBFC                     \n",
       "25 #MoralPolicingChat           \n",
       "26 #MKStalin                    \n",
       "27 #RMFIndia                    \n",
       "28 #Ignis                       \n",
       "29 #HappyHers                   \n",
       "30 #VoiceIndiaLives5            \n",
       "31 #FACup                       \n",
       "32 #ProbeBJP_ISI_Link           \n",
       "33 #BJPwaveInUP                 \n",
       "34 #JashnERekhta                \n",
       "35 #TeamEvans                   \n",
       "36 #HafizSaeed                  \n",
       "37 #MBvDSK                      \n",
       "   url                                                                                                                                                                                \n",
       "1  http://twitter.com/search?q=%23JioFilmfareAwards                                                                                                                                   \n",
       "2  http://twitter.com/search?q=%23floortest                                                                                                                                           \n",
       "3  http://twitter.com/search?q=%23INDAvAUS                                                                                                                                            \n",
       "4  http://twitter.com/search?q=Assembly                                                                                                                                               \n",
       "5  http://twitter.com/search?q=%23HouseOfChaos                                                                                                                                        \n",
       "6  http://twitter.com/search?q=%23ILoveRisingStar                                                                                                                                     \n",
       "7  http://twitter.com/search?q=Hamilton                                                                                                                                               \n",
       "8  http://twitter.com/search?q=%22Marina+Beach%22                                                                                                                                     \n",
       "9  http://twitter.com/search?q=%22%E0%A4%A4%E0%A4%AE%E0%A4%BF%E0%A4%B2%E0%A4%A8%E0%A4%BE%E0%A4%A1%E0%A5%81+%E0%A4%B5%E0%A4%BF%E0%A4%A7%E0%A4%BE%E0%A4%A8%E0%A4%B8%E0%A4%AD%E0%A4%BE%22\n",
       "10 http://twitter.com/search?q=%22JOLLY+FIRST+HIT+OF+2017%22                                                                                                                          \n",
       "11 http://twitter.com/search?q=%23NeilNitinMukesh                                                                                                                                     \n",
       "12 http://twitter.com/search?q=%23UttarPradeshElection2017                                                                                                                            \n",
       "13 http://twitter.com/search?q=%23127CrIn9Days                                                                                                                                        \n",
       "14 http://twitter.com/search?q=%23UPvotes                                                                                                                                             \n",
       "15 http://twitter.com/search?q=%23ASOTFESTNL                                                                                                                                          \n",
       "16 http://twitter.com/search?q=%23SuperheroesonSonySIX                                                                                                                                \n",
       "17 http://twitter.com/search?q=%23OPSvsEPS                                                                                                                                            \n",
       "18 http://twitter.com/search?q=%23UP%E0%A4%95%E0%A5%80%E0%A4%AA%E0%A5%81%E0%A4%95%E0%A4%BE%E0%A4%B0_BJP%E0%A4%87%E0%A4%B8%E0%A4%AC%E0%A4%BE%E0%A4%B0                                  \n",
       "19 http://twitter.com/search?q=%23%E0%A4%97%E0%A4%A0%E0%A4%AC%E0%A4%82%E0%A4%A7%E0%A4%A8_%E0%A4%95%E0%A4%BE_%E0%A4%AA%E0%A4%B9%E0%A4%B2%E0%A4%BE_%E0%A4%B5%E0%A4%BE%E0%A4%A6%E0%A4%BE \n",
       "20 http://twitter.com/search?q=%23PatanjaliMisleadingConsumers                                                                                                                        \n",
       "21 http://twitter.com/search?q=%23DJFirstLook                                                                                                                                         \n",
       "22 http://twitter.com/search?q=%23BJPSeBetiBachao                                                                                                                                     \n",
       "23 http://twitter.com/search?q=%23TNWithDMK                                                                                                                                           \n",
       "24 http://twitter.com/search?q=%23MUMvBFC                                                                                                                                             \n",
       "25 http://twitter.com/search?q=%23MoralPolicingChat                                                                                                                                   \n",
       "26 http://twitter.com/search?q=%23MKStalin                                                                                                                                            \n",
       "27 http://twitter.com/search?q=%23RMFIndia                                                                                                                                            \n",
       "28 http://twitter.com/search?q=%23Ignis                                                                                                                                               \n",
       "29 http://twitter.com/search?q=%23HappyHers                                                                                                                                           \n",
       "30 http://twitter.com/search?q=%23VoiceIndiaLives5                                                                                                                                    \n",
       "31 http://twitter.com/search?q=%23FACup                                                                                                                                               \n",
       "32 http://twitter.com/search?q=%23ProbeBJP_ISI_Link                                                                                                                                   \n",
       "33 http://twitter.com/search?q=%23BJPwaveInUP                                                                                                                                         \n",
       "34 http://twitter.com/search?q=%23JashnERekhta                                                                                                                                        \n",
       "35 http://twitter.com/search?q=%23TeamEvans                                                                                                                                           \n",
       "36 http://twitter.com/search?q=%23HafizSaeed                                                                                                                                          \n",
       "37 http://twitter.com/search?q=%23MBvDSK                                                                                                                                              \n",
       "   query                                                                                                                                                  \n",
       "1  %23JioFilmfareAwards                                                                                                                                   \n",
       "2  %23floortest                                                                                                                                           \n",
       "3  %23INDAvAUS                                                                                                                                            \n",
       "4  Assembly                                                                                                                                               \n",
       "5  %23HouseOfChaos                                                                                                                                        \n",
       "6  %23ILoveRisingStar                                                                                                                                     \n",
       "7  Hamilton                                                                                                                                               \n",
       "8  %22Marina+Beach%22                                                                                                                                     \n",
       "9  %22%E0%A4%A4%E0%A4%AE%E0%A4%BF%E0%A4%B2%E0%A4%A8%E0%A4%BE%E0%A4%A1%E0%A5%81+%E0%A4%B5%E0%A4%BF%E0%A4%A7%E0%A4%BE%E0%A4%A8%E0%A4%B8%E0%A4%AD%E0%A4%BE%22\n",
       "10 %22JOLLY+FIRST+HIT+OF+2017%22                                                                                                                          \n",
       "11 %23NeilNitinMukesh                                                                                                                                     \n",
       "12 %23UttarPradeshElection2017                                                                                                                            \n",
       "13 %23127CrIn9Days                                                                                                                                        \n",
       "14 %23UPvotes                                                                                                                                             \n",
       "15 %23ASOTFESTNL                                                                                                                                          \n",
       "16 %23SuperheroesonSonySIX                                                                                                                                \n",
       "17 %23OPSvsEPS                                                                                                                                            \n",
       "18 %23UP%E0%A4%95%E0%A5%80%E0%A4%AA%E0%A5%81%E0%A4%95%E0%A4%BE%E0%A4%B0_BJP%E0%A4%87%E0%A4%B8%E0%A4%AC%E0%A4%BE%E0%A4%B0                                  \n",
       "19 %23%E0%A4%97%E0%A4%A0%E0%A4%AC%E0%A4%82%E0%A4%A7%E0%A4%A8_%E0%A4%95%E0%A4%BE_%E0%A4%AA%E0%A4%B9%E0%A4%B2%E0%A4%BE_%E0%A4%B5%E0%A4%BE%E0%A4%A6%E0%A4%BE \n",
       "20 %23PatanjaliMisleadingConsumers                                                                                                                        \n",
       "21 %23DJFirstLook                                                                                                                                         \n",
       "22 %23BJPSeBetiBachao                                                                                                                                     \n",
       "23 %23TNWithDMK                                                                                                                                           \n",
       "24 %23MUMvBFC                                                                                                                                             \n",
       "25 %23MoralPolicingChat                                                                                                                                   \n",
       "26 %23MKStalin                                                                                                                                            \n",
       "27 %23RMFIndia                                                                                                                                            \n",
       "28 %23Ignis                                                                                                                                               \n",
       "29 %23HappyHers                                                                                                                                           \n",
       "30 %23VoiceIndiaLives5                                                                                                                                    \n",
       "31 %23FACup                                                                                                                                               \n",
       "32 %23ProbeBJP_ISI_Link                                                                                                                                   \n",
       "33 %23BJPwaveInUP                                                                                                                                         \n",
       "34 %23JashnERekhta                                                                                                                                        \n",
       "35 %23TeamEvans                                                                                                                                           \n",
       "36 %23HafizSaeed                                                                                                                                          \n",
       "37 %23MBvDSK                                                                                                                                              \n",
       "   woeid  \n",
       "1  2295411\n",
       "2  2295411\n",
       "3  2295411\n",
       "4  2295411\n",
       "5  2295411\n",
       "6  2295411\n",
       "7  2295411\n",
       "8  2295411\n",
       "9  2295411\n",
       "10 2295411\n",
       "11 2295411\n",
       "12 2295411\n",
       "13 2295411\n",
       "14 2295411\n",
       "15 2295411\n",
       "16 2295411\n",
       "17 2295411\n",
       "18 2295411\n",
       "19 2295411\n",
       "20 2295411\n",
       "21 2295411\n",
       "22 2295411\n",
       "23 2295411\n",
       "24 2295411\n",
       "25 2295411\n",
       "26 2295411\n",
       "27 2295411\n",
       "28 2295411\n",
       "29 2295411\n",
       "30 2295411\n",
       "31 2295411\n",
       "32 2295411\n",
       "33 2295411\n",
       "34 2295411\n",
       "35 2295411\n",
       "36 2295411\n",
       "37 2295411"
      ]
     },
     "metadata": {},
     "output_type": "display_data"
    }
   ],
   "source": [
    "df1=getTrends(df$woeid)\n",
    "df1"
   ]
  },
  {
   "cell_type": "markdown",
   "metadata": {},
   "source": [
    "Printing the trending topics."
   ]
  },
  {
   "cell_type": "code",
   "execution_count": 9,
   "metadata": {
    "collapsed": false
   },
   "outputs": [
    {
     "data": {
      "text/html": [
       "<span style=white-space:pre-wrap>'Trending topics in  mumbai are : '</span>"
      ],
      "text/latex": [
       "'Trending topics in  mumbai are : '"
      ],
      "text/markdown": [
       "<span style=white-space:pre-wrap>'Trending topics in  mumbai are : '</span>"
      ],
      "text/plain": [
       "[1] \"Trending topics in  mumbai are : \""
      ]
     },
     "metadata": {},
     "output_type": "display_data"
    },
    {
     "data": {
      "text/html": [
       "<ol class=list-inline>\n",
       "\t<li>'#JioFilmfareAwards'</li>\n",
       "\t<li>'#floortest'</li>\n",
       "\t<li>'#INDAvAUS'</li>\n",
       "\t<li>'Assembly'</li>\n",
       "\t<li>'#HouseOfChaos'</li>\n",
       "\t<li>'#ILoveRisingStar'</li>\n",
       "\t<li>'Hamilton'</li>\n",
       "\t<li>'Marina Beach'</li>\n",
       "\t<li>'तमिलनाडु विधानसभा'</li>\n",
       "\t<li>'JOLLY FIRST HIT OF 2017'</li>\n",
       "</ol>\n"
      ],
      "text/latex": [
       "\\begin{enumerate*}\n",
       "\\item '\\#JioFilmfareAwards'\n",
       "\\item '\\#floortest'\n",
       "\\item '\\#INDAvAUS'\n",
       "\\item 'Assembly'\n",
       "\\item '\\#HouseOfChaos'\n",
       "\\item '\\#ILoveRisingStar'\n",
       "\\item 'Hamilton'\n",
       "\\item 'Marina Beach'\n",
       "\\item 'तमिलनाडु विधानसभा'\n",
       "\\item 'JOLLY FIRST HIT OF 2017'\n",
       "\\end{enumerate*}\n"
      ],
      "text/markdown": [
       "1. '#JioFilmfareAwards'\n",
       "2. '#floortest'\n",
       "3. '#INDAvAUS'\n",
       "4. 'Assembly'\n",
       "5. '#HouseOfChaos'\n",
       "6. '#ILoveRisingStar'\n",
       "7. 'Hamilton'\n",
       "8. 'Marina Beach'\n",
       "9. 'तमिलनाडु विधानसभा'\n",
       "10. 'JOLLY FIRST HIT OF 2017'\n",
       "\n",
       "\n"
      ],
      "text/plain": [
       " [1] \"#JioFilmfareAwards\"      \"#floortest\"             \n",
       " [3] \"#INDAvAUS\"               \"Assembly\"               \n",
       " [5] \"#HouseOfChaos\"           \"#ILoveRisingStar\"       \n",
       " [7] \"Hamilton\"                \"Marina Beach\"           \n",
       " [9] \"तमिलनाडु विधानसभा\"        \"JOLLY FIRST HIT OF 2017\""
      ]
     },
     "metadata": {},
     "output_type": "display_data"
    }
   ],
   "source": [
    "paste(\"Trending topics in \" ,location, \"are : \")\n",
    "df1$name[1:10]"
   ]
  },
  {
   "cell_type": "code",
   "execution_count": null,
   "metadata": {
    "collapsed": true
   },
   "outputs": [],
   "source": []
  },
  {
   "cell_type": "code",
   "execution_count": null,
   "metadata": {
    "collapsed": true
   },
   "outputs": [],
   "source": []
  }
 ],
 "metadata": {
  "kernelspec": {
   "display_name": "R",
   "language": "R",
   "name": "ir"
  },
  "language_info": {
   "codemirror_mode": "r",
   "file_extension": ".r",
   "mimetype": "text/x-r-source",
   "name": "R",
   "pygments_lexer": "r",
   "version": "3.3.2"
  }
 },
 "nbformat": 4,
 "nbformat_minor": 2
}
