{
 "cells": [
  {
   "cell_type": "code",
   "execution_count": 8,
   "metadata": {
    "collapsed": false
   },
   "outputs": [
    {
     "name": "stdout",
     "output_type": "stream",
     "text": [
      "[1] \"Using direct authentication\"\n"
     ]
    }
   ],
   "source": [
    "library(\"twitteR\")\n",
    "\n",
    "api_key <- \"7ICGxNJPdbosOA67rorrJ1i9W\"\n",
    "api_secret <- \"CGLcEPnJ8ZeQquy18jUjMzQK5xlDhLcRu4shtCnoTthrmU99IM\"\n",
    "access_token <- \"771783467029917697-Du28kI7XpoKSeFRHnUy1rK4ANM6IZ5T\"\n",
    "access_token_secret <- \"yg6spi2gpaFgbuxP0bBlr1Z0rjl2cMX9HwyXTW4Gqig3v\"\n",
    "\n",
    "setup_twitter_oauth(api_key,api_secret,access_token,access_token_secret)"
   ]
  },
  {
   "cell_type": "code",
   "execution_count": 3,
   "metadata": {
    "collapsed": false
   },
   "outputs": [
    {
     "data": {
      "text/html": [
       "<table>\n",
       "<thead><tr><th scope=col>name</th><th scope=col>screen_name</th><th scope=col>id</th><th scope=col>following</th><th scope=col>followed_by</th></tr></thead>\n",
       "<tbody>\n",
       "\t<tr><td>Ashwin     </td><td>ashwin_mufc</td><td>1246572168 </td><td>TRUE       </td><td>FALSE      </td></tr>\n",
       "</tbody>\n",
       "</table>\n"
      ],
      "text/latex": [
       "\\begin{tabular}{r|lllll}\n",
       " name & screen\\_name & id & following & followed\\_by\\\\\n",
       "\\hline\n",
       "\t Ashwin        & ashwin\\_mufc & 1246572168    & TRUE          & FALSE        \\\\\n",
       "\\end{tabular}\n"
      ],
      "text/markdown": [
       "\n",
       "name | screen_name | id | following | followed_by | \n",
       "|---|\n",
       "| Ashwin      | ashwin_mufc | 1246572168  | TRUE        | FALSE       | \n",
       "\n",
       "\n"
      ],
      "text/plain": [
       "  name   screen_name id         following followed_by\n",
       "1 Ashwin ashwin_mufc 1246572168 TRUE      FALSE      "
      ]
     },
     "metadata": {},
     "output_type": "display_data"
    }
   ],
   "source": [
    "friendships(screen_names=\"ashwin_mufc\")"
   ]
  },
  {
   "cell_type": "code",
   "execution_count": 36,
   "metadata": {
    "collapsed": false
   },
   "outputs": [
    {
     "data": {
      "text/plain": [
       "[1] \"ashwin_mufc\""
      ]
     },
     "metadata": {},
     "output_type": "display_data"
    }
   ],
   "source": [
    "my_user <- userFactory$new(screenName=\"ashwin_mufc\")\n",
    "my_user"
   ]
  },
  {
   "cell_type": "code",
   "execution_count": 12,
   "metadata": {
    "collapsed": false
   },
   "outputs": [
    {
     "data": {
      "text/plain": [
       "[[1]]\n",
       "[1] \"Sport__WAGs: Ivanka Trump - Donald Trump's daughter. #ElectionNight https://t.co/brLSvQNBC1\"\n",
       "\n",
       "[[2]]\n",
       "[1] \"UtdHQ: Sir Alex Ferguson took charge of his first #mufc game 30 years ago today. https://t.co/oruwhxu3rZ\"\n",
       "\n",
       "[[3]]\n",
       "[1] \"HerreraTekkers: Mourinho at his best https://t.co/f79fHIuWMw\"\n"
      ]
     },
     "metadata": {},
     "output_type": "display_data"
    }
   ],
   "source": [
    "favorites(my_user,n=3)"
   ]
  },
  {
   "cell_type": "code",
   "execution_count": 39,
   "metadata": {
    "collapsed": false
   },
   "outputs": [
    {
     "data": {
      "text/html": [
       "<table>\n",
       "<thead><tr><th></th><th scope=col>description</th><th scope=col>statusesCount</th><th scope=col>followersCount</th><th scope=col>favoritesCount</th><th scope=col>friendsCount</th><th scope=col>url</th><th scope=col>name</th><th scope=col>created</th><th scope=col>protected</th><th scope=col>verified</th><th scope=col>screenName</th><th scope=col>location</th><th scope=col>lang</th><th scope=col>id</th><th scope=col>listedCount</th><th scope=col>followRequestSent</th><th scope=col>profileImageUrl</th></tr></thead>\n",
       "<tbody>\n",
       "\t<tr><th scope=row>aniruddh2310</th><td>                                                                               </td><td>0                                                                              </td><td>2                                                                              </td><td>0                                                                              </td><td>1                                                                              </td><td>NA                                                                             </td><td>Aniruddh                                                                       </td><td>2016-09-02 18:54:52                                                            </td><td>FALSE                                                                          </td><td>FALSE                                                                          </td><td>aniruddh2310                                                                   </td><td>                                                                               </td><td>en                                                                             </td><td>771783467029917697                                                             </td><td>0                                                                              </td><td>FALSE                                                                          </td><td>http://abs.twimg.com/sticky/default_profile_images/default_profile_5_normal.png</td></tr>\n",
       "</tbody>\n",
       "</table>\n"
      ],
      "text/latex": [
       "\\begin{tabular}{r|lllllllllllllllll}\n",
       "  & description & statusesCount & followersCount & favoritesCount & friendsCount & url & name & created & protected & verified & screenName & location & lang & id & listedCount & followRequestSent & profileImageUrl\\\\\n",
       "\\hline\n",
       "\taniruddh2310 &                                                                                           & 0                                                                                         & 2                                                                                         & 0                                                                                         & 1                                                                                         & NA                                                                                        & Aniruddh                                                                                  & 2016-09-02 18:54:52                                                                       & FALSE                                                                                     & FALSE                                                                                     & aniruddh2310                                                                              &                                                                                           & en                                                                                        & 771783467029917697                                                                        & 0                                                                                         & FALSE                                                                                     & http://abs.twimg.com/sticky/default\\_profile\\_images/default\\_profile\\_5\\_normal.png\\\\\n",
       "\\end{tabular}\n"
      ],
      "text/markdown": [
       "\n",
       "| <!--/--> | description | statusesCount | followersCount | favoritesCount | friendsCount | url | name | created | protected | verified | screenName | location | lang | id | listedCount | followRequestSent | profileImageUrl | \n",
       "|---|\n",
       "| aniruddh2310 |                                                                                 | 0                                                                               | 2                                                                               | 0                                                                               | 1                                                                               | NA                                                                              | Aniruddh                                                                        | 2016-09-02 18:54:52                                                             | FALSE                                                                           | FALSE                                                                           | aniruddh2310                                                                    |                                                                                 | en                                                                              | 771783467029917697                                                              | 0                                                                               | FALSE                                                                           | http://abs.twimg.com/sticky/default_profile_images/default_profile_5_normal.png | \n",
       "\n",
       "\n"
      ],
      "text/plain": [
       "             description statusesCount followersCount favoritesCount\n",
       "aniruddh2310             0             2              0             \n",
       "             friendsCount url name     created             protected verified\n",
       "aniruddh2310 1            NA  Aniruddh 2016-09-02 18:54:52 FALSE     FALSE   \n",
       "             screenName   location lang id                 listedCount\n",
       "aniruddh2310 aniruddh2310          en   771783467029917697 0          \n",
       "             followRequestSent\n",
       "aniruddh2310 FALSE            \n",
       "             profileImageUrl                                                                \n",
       "aniruddh2310 http://abs.twimg.com/sticky/default_profile_images/default_profile_5_normal.png"
      ]
     },
     "metadata": {},
     "output_type": "display_data"
    }
   ],
   "source": [
    "df=twListToDF(lookupUsers(\"aniruddh2310\"))\n",
    "df"
   ]
  },
  {
   "cell_type": "code",
   "execution_count": 26,
   "metadata": {
    "collapsed": false
   },
   "outputs": [
    {
     "name": "stderr",
     "output_type": "stream",
     "text": [
      "Information from URL : http://maps.googleapis.com/maps/api/geocode/json?address=mumbai&sensor=false\n"
     ]
    },
    {
     "data": {
      "text/html": [
       "<table>\n",
       "<thead><tr><th scope=col>lon</th><th scope=col>lat</th></tr></thead>\n",
       "<tbody>\n",
       "\t<tr><td>72.87766</td><td>19.07598</td></tr>\n",
       "</tbody>\n",
       "</table>\n"
      ],
      "text/latex": [
       "\\begin{tabular}{r|ll}\n",
       " lon & lat\\\\\n",
       "\\hline\n",
       "\t 72.87766 & 19.07598\\\\\n",
       "\\end{tabular}\n"
      ],
      "text/markdown": [
       "\n",
       "lon | lat | \n",
       "|---|\n",
       "| 72.87766 | 19.07598 | \n",
       "\n",
       "\n"
      ],
      "text/plain": [
       "  lon      lat     \n",
       "1 72.87766 19.07598"
      ]
     },
     "metadata": {},
     "output_type": "display_data"
    },
    {
     "data": {
      "text/html": [
       "<table>\n",
       "<thead><tr><th scope=col>name</th><th scope=col>country</th><th scope=col>woeid</th></tr></thead>\n",
       "<tbody>\n",
       "\t<tr><td>Mumbai </td><td>India  </td><td>2295411</td></tr>\n",
       "</tbody>\n",
       "</table>\n"
      ],
      "text/latex": [
       "\\begin{tabular}{r|lll}\n",
       " name & country & woeid\\\\\n",
       "\\hline\n",
       "\t Mumbai  & India   & 2295411\\\\\n",
       "\\end{tabular}\n"
      ],
      "text/markdown": [
       "\n",
       "name | country | woeid | \n",
       "|---|\n",
       "| Mumbai  | India   | 2295411 | \n",
       "\n",
       "\n"
      ],
      "text/plain": [
       "  name   country woeid  \n",
       "1 Mumbai India   2295411"
      ]
     },
     "metadata": {},
     "output_type": "display_data"
    },
    {
     "data": {
      "text/html": [
       "<ol class=list-inline>\n",
       "\t<li>'#JioFilmfareAwards'</li>\n",
       "\t<li>'#WOLvCHE'</li>\n",
       "\t<li>'#FACup'</li>\n",
       "</ol>\n"
      ],
      "text/latex": [
       "\\begin{enumerate*}\n",
       "\\item '\\#JioFilmfareAwards'\n",
       "\\item '\\#WOLvCHE'\n",
       "\\item '\\#FACup'\n",
       "\\end{enumerate*}\n"
      ],
      "text/markdown": [
       "1. '#JioFilmfareAwards'\n",
       "2. '#WOLvCHE'\n",
       "3. '#FACup'\n",
       "\n",
       "\n"
      ],
      "text/plain": [
       "[1] \"#JioFilmfareAwards\" \"#WOLvCHE\"           \"#FACup\"            "
      ]
     },
     "metadata": {},
     "output_type": "display_data"
    }
   ],
   "source": [
    "library(ggmap)\n",
    "location=\"mumbai\"\n",
    "cordinates=geocode(location)\n",
    "cordinates\n",
    "df=closestTrendLocations(cordinates$lat,cordinates$lon)\n",
    "df\n",
    "df1=getTrends(df$woeid)\n",
    "df1$name[1:3]"
   ]
  },
  {
   "cell_type": "code",
   "execution_count": 102,
   "metadata": {
    "collapsed": false
   },
   "outputs": [
    {
     "data": {
      "text/plain": [
       "[[1]]\n",
       "[1] \"shutupvamp: RT @nywolforg: Cutest QB ever.  \\n\\n#DeflateGateExplained #SuperBowl #standforwolves https://t.co/o8JY9D4ax4\"\n",
       "\n",
       "[[2]]\n",
       "[1] \"BananaDoLou: RT @OfficialMrX: Omg Lady Gaga you Killed it. x #SuperBowl\"\n",
       "\n",
       "[[3]]\n",
       "[1] \"shutupvamp: RT @nywolforg: Beyond being ecologically important as a critical keystone predator, Atka is the cutest QB there will ever be. #superbowl #s…\"\n",
       "\n",
       "[[4]]\n",
       "[1] \"gonzalez23majo: RT @justinbieber: My #SuperBowl commercial w/ @TMobile. Let’s go!! Let me see those #UnlimitedMoves https://t.co/J3YYPkR9nw\"\n",
       "\n",
       "[[5]]\n",
       "[1] \"romanhosub: RT @porliniers: Lady Gaga dio vuelta el partido. #SuperBowl\"\n"
      ]
     },
     "metadata": {},
     "output_type": "display_data"
    }
   ],
   "source": [
    "tweets=searchTwitter(\"#superbowl\",n=5)\n",
    "tweets"
   ]
  },
  {
   "cell_type": "code",
   "execution_count": 103,
   "metadata": {
    "collapsed": true
   },
   "outputs": [],
   "source": [
    "library(\"RSQLite\")"
   ]
  },
  {
   "cell_type": "code",
   "execution_count": 104,
   "metadata": {
    "collapsed": false
   },
   "outputs": [
    {
     "data": {
      "text/html": [
       "TRUE"
      ],
      "text/latex": [
       "TRUE"
      ],
      "text/markdown": [
       "TRUE"
      ],
      "text/plain": [
       "[1] TRUE"
      ]
     },
     "metadata": {},
     "output_type": "display_data"
    }
   ],
   "source": [
    "register_sqlite_backend(\"mydb1\")\n",
    "store_tweets_db(tweets)"
   ]
  },
  {
   "cell_type": "code",
   "execution_count": 105,
   "metadata": {
    "collapsed": false,
    "scrolled": false
   },
   "outputs": [
    {
     "data": {
      "text/plain": [
       "[[1]]\n",
       "[1] \"shutupvamp: RT @nywolforg: Cutest QB ever.  \\n\\n#DeflateGateExplained #SuperBowl #standforwolves https://t.co/o8JY9D4ax4\"\n",
       "\n",
       "[[2]]\n",
       "[1] \"BananaDoLou: RT @OfficialMrX: Omg Lady Gaga you Killed it. x #SuperBowl\"\n",
       "\n",
       "[[3]]\n",
       "[1] \"shutupvamp: RT @nywolforg: Beyond being ecologically important as a critical keystone predator, Atka is the cutest QB there will ever be. #superbowl #s…\"\n",
       "\n",
       "[[4]]\n",
       "[1] \"gonzalez23majo: RT @justinbieber: My #SuperBowl commercial w/ @TMobile. Let’s go!! Let me see those #UnlimitedMoves https://t.co/J3YYPkR9nw\"\n",
       "\n",
       "[[5]]\n",
       "[1] \"romanhosub: RT @porliniers: Lady Gaga dio vuelta el partido. #SuperBowl\"\n"
      ]
     },
     "metadata": {},
     "output_type": "display_data"
    }
   ],
   "source": [
    "tweets_fromdb=load_tweets_db()\n",
    "tweets_fromdb\n"
   ]
  },
  {
   "cell_type": "code",
   "execution_count": 106,
   "metadata": {
    "collapsed": false
   },
   "outputs": [
    {
     "data": {
      "text/plain": [
       "[1] \"aniruddh2310->aniruddh2310: hi\""
      ]
     },
     "metadata": {},
     "output_type": "display_data"
    }
   ],
   "source": [
    "dmSend('hi','aniruddh2310')"
   ]
  },
  {
   "cell_type": "code",
   "execution_count": 30,
   "metadata": {
    "collapsed": false
   },
   "outputs": [
    {
     "data": {
      "text/plain": [
       "[[1]]\n",
       "[1] \"ashwin_mufc: Tweeted from Jupyter using TwitteR package in R #geekystuff v2\"\n"
      ]
     },
     "metadata": {},
     "output_type": "display_data"
    }
   ],
   "source": [
    "ut=userTimeline('ashwin_mufc')\n",
    "ut"
   ]
  },
  {
   "cell_type": "code",
   "execution_count": 41,
   "metadata": {
    "collapsed": false
   },
   "outputs": [
    {
     "data": {
      "text/html": [
       "<table>\n",
       "<thead><tr><th></th><th scope=col>description</th><th scope=col>statusesCount</th><th scope=col>followersCount</th><th scope=col>favoritesCount</th><th scope=col>friendsCount</th><th scope=col>url</th><th scope=col>name</th><th scope=col>created</th><th scope=col>protected</th><th scope=col>verified</th><th scope=col>screenName</th><th scope=col>location</th><th scope=col>lang</th><th scope=col>id</th><th scope=col>listedCount</th><th scope=col>followRequestSent</th><th scope=col>profileImageUrl</th></tr></thead>\n",
       "<tbody>\n",
       "\t<tr><th scope=row>ashwin_mufc</th><td>Carpe Diem                                                                </td><td>46081                                                                     </td><td>315                                                                       </td><td>94                                                                        </td><td>340                                                                       </td><td>NA                                                                        </td><td>Ashwin                                                                    </td><td>2013-03-06 17:24:15                                                       </td><td>FALSE                                                                     </td><td>FALSE                                                                     </td><td>ashwin_mufc                                                               </td><td>Amherst, NY                                                               </td><td>en                                                                        </td><td>1246572168                                                                </td><td>24                                                                        </td><td>FALSE                                                                     </td><td>http://pbs.twimg.com/profile_images/735925986600968192/c3hzm93C_normal.jpg</td></tr>\n",
       "</tbody>\n",
       "</table>\n"
      ],
      "text/latex": [
       "\\begin{tabular}{r|lllllllllllllllll}\n",
       "  & description & statusesCount & followersCount & favoritesCount & friendsCount & url & name & created & protected & verified & screenName & location & lang & id & listedCount & followRequestSent & profileImageUrl\\\\\n",
       "\\hline\n",
       "\tashwin\\_mufc & Carpe Diem                                                                     & 46081                                                                          & 315                                                                            & 94                                                                             & 340                                                                            & NA                                                                             & Ashwin                                                                         & 2013-03-06 17:24:15                                                            & FALSE                                                                          & FALSE                                                                          & ashwin\\_mufc                                                                  & Amherst, NY                                                                    & en                                                                             & 1246572168                                                                     & 24                                                                             & FALSE                                                                          & http://pbs.twimg.com/profile\\_images/735925986600968192/c3hzm93C\\_normal.jpg\\\\\n",
       "\\end{tabular}\n"
      ],
      "text/markdown": [
       "\n",
       "| <!--/--> | description | statusesCount | followersCount | favoritesCount | friendsCount | url | name | created | protected | verified | screenName | location | lang | id | listedCount | followRequestSent | profileImageUrl | \n",
       "|---|\n",
       "| ashwin_mufc | Carpe Diem                                                                 | 46081                                                                      | 315                                                                        | 94                                                                         | 340                                                                        | NA                                                                         | Ashwin                                                                     | 2013-03-06 17:24:15                                                        | FALSE                                                                      | FALSE                                                                      | ashwin_mufc                                                                | Amherst, NY                                                                | en                                                                         | 1246572168                                                                 | 24                                                                         | FALSE                                                                      | http://pbs.twimg.com/profile_images/735925986600968192/c3hzm93C_normal.jpg | \n",
       "\n",
       "\n"
      ],
      "text/plain": [
       "            description statusesCount followersCount favoritesCount\n",
       "ashwin_mufc Carpe Diem  46081         315            94            \n",
       "            friendsCount url name   created             protected verified\n",
       "ashwin_mufc 340          NA  Ashwin 2013-03-06 17:24:15 FALSE     FALSE   \n",
       "            screenName  location    lang id         listedCount\n",
       "ashwin_mufc ashwin_mufc Amherst, NY en   1246572168 24         \n",
       "            followRequestSent\n",
       "ashwin_mufc FALSE            \n",
       "            profileImageUrl                                                           \n",
       "ashwin_mufc http://pbs.twimg.com/profile_images/735925986600968192/c3hzm93C_normal.jpg"
      ]
     },
     "metadata": {},
     "output_type": "display_data"
    }
   ],
   "source": [
    "df1=twListToDF(lookupUsers('ashwin_mufc'))\n",
    "df1"
   ]
  },
  {
   "cell_type": "code",
   "execution_count": 42,
   "metadata": {
    "collapsed": false
   },
   "outputs": [
    {
     "data": {
      "text/plain": [
       "[1] \"mandydoucet: Note to self: do not ALWAYS assume Alyssa is working.\""
      ]
     },
     "metadata": {},
     "output_type": "display_data"
    }
   ],
   "source": [
    "showStatus(df1$id)"
   ]
  },
  {
   "cell_type": "code",
   "execution_count": 67,
   "metadata": {
    "collapsed": false,
    "scrolled": true
   },
   "outputs": [
    {
     "data": {
      "text/html": [
       "<table>\n",
       "<thead><tr><th scope=col>resource</th><th scope=col>limit</th><th scope=col>remaining</th><th scope=col>reset</th></tr></thead>\n",
       "<tbody>\n",
       "\t<tr><td>/friendships/outgoing       </td><td>15                          </td><td>15                          </td><td>2017-02-18 23:57:42         </td></tr>\n",
       "\t<tr><td>/friendships/list           </td><td>200                         </td><td>200                         </td><td>2017-02-18 23:57:42         </td></tr>\n",
       "\t<tr><td>/friendships/no_retweets/ids</td><td>15                          </td><td>15                          </td><td>2017-02-18 23:57:42         </td></tr>\n",
       "\t<tr><td>/friendships/lookup         </td><td>15                          </td><td>15                          </td><td>2017-02-18 23:57:42         </td></tr>\n",
       "\t<tr><td>/friendships/incoming       </td><td>15                          </td><td>15                          </td><td>2017-02-18 23:57:42         </td></tr>\n",
       "\t<tr><td>/friendships/show           </td><td>180                         </td><td>180                         </td><td>2017-02-18 23:57:42         </td></tr>\n",
       "</tbody>\n",
       "</table>\n"
      ],
      "text/latex": [
       "\\begin{tabular}{r|llll}\n",
       " resource & limit & remaining & reset\\\\\n",
       "\\hline\n",
       "\t /friendships/outgoing        & 15                           & 15                           & 2017-02-18 23:57:42         \\\\\n",
       "\t /friendships/list            & 200                          & 200                          & 2017-02-18 23:57:42         \\\\\n",
       "\t /friendships/no\\_retweets/ids & 15                             & 15                             & 2017-02-18 23:57:42           \\\\\n",
       "\t /friendships/lookup          & 15                           & 15                           & 2017-02-18 23:57:42         \\\\\n",
       "\t /friendships/incoming        & 15                           & 15                           & 2017-02-18 23:57:42         \\\\\n",
       "\t /friendships/show            & 180                          & 180                          & 2017-02-18 23:57:42         \\\\\n",
       "\\end{tabular}\n"
      ],
      "text/markdown": [
       "\n",
       "resource | limit | remaining | reset | \n",
       "|---|---|---|---|---|---|\n",
       "| /friendships/outgoing        | 15                           | 15                           | 2017-02-18 23:57:42          | \n",
       "| /friendships/list            | 200                          | 200                          | 2017-02-18 23:57:42          | \n",
       "| /friendships/no_retweets/ids | 15                           | 15                           | 2017-02-18 23:57:42          | \n",
       "| /friendships/lookup          | 15                           | 15                           | 2017-02-18 23:57:42          | \n",
       "| /friendships/incoming        | 15                           | 15                           | 2017-02-18 23:57:42          | \n",
       "| /friendships/show            | 180                          | 180                          | 2017-02-18 23:57:42          | \n",
       "\n",
       "\n"
      ],
      "text/plain": [
       "  resource                     limit remaining reset              \n",
       "1 /friendships/outgoing        15    15        2017-02-18 23:57:42\n",
       "2 /friendships/list            200   200       2017-02-18 23:57:42\n",
       "3 /friendships/no_retweets/ids 15    15        2017-02-18 23:57:42\n",
       "4 /friendships/lookup          15    15        2017-02-18 23:57:42\n",
       "5 /friendships/incoming        15    15        2017-02-18 23:57:42\n",
       "6 /friendships/show            180   180       2017-02-18 23:57:42"
      ]
     },
     "metadata": {},
     "output_type": "display_data"
    }
   ],
   "source": [
    "z=getCurRateLimitInfo('friendships')\n",
    "z"
   ]
  },
  {
   "cell_type": "code",
   "execution_count": 100,
   "metadata": {
    "collapsed": false
   },
   "outputs": [
    {
     "data": {
      "text/html": [
       "'833046001329987584'"
      ],
      "text/latex": [
       "'833046001329987584'"
      ],
      "text/markdown": [
       "'833046001329987584'"
      ],
      "text/plain": [
       "[1] \"833046001329987584\""
      ]
     },
     "metadata": {},
     "output_type": "display_data"
    },
    {
     "data": {
      "text/html": [
       "<ol>\n",
       "</ol>\n"
      ],
      "text/latex": [
       "\\begin{enumerate}\n",
       "\\end{enumerate}\n"
      ],
      "text/markdown": [
       "\n",
       "\n"
      ],
      "text/plain": [
       "list()"
      ]
     },
     "metadata": {},
     "output_type": "display_data"
    }
   ],
   "source": [
    "df3=twListToDF(tweets_fromdb)\n",
    "df3$id[1]\n",
    "t=retweets(df3$id[1])\n",
    "t"
   ]
  },
  {
   "cell_type": "code",
   "execution_count": 101,
   "metadata": {
    "collapsed": false
   },
   "outputs": [
    {
     "data": {
      "text/plain": [
       "[1] \"aniruddh2310: hii\""
      ]
     },
     "metadata": {},
     "output_type": "display_data"
    }
   ],
   "source": [
    "tweet(\"hii\")"
   ]
  },
  {
   "cell_type": "code",
   "execution_count": null,
   "metadata": {
    "collapsed": true
   },
   "outputs": [],
   "source": []
  }
 ],
 "metadata": {
  "kernelspec": {
   "display_name": "R",
   "language": "R",
   "name": "ir"
  },
  "language_info": {
   "codemirror_mode": "r",
   "file_extension": ".r",
   "mimetype": "text/x-r-source",
   "name": "R",
   "pygments_lexer": "r",
   "version": "3.3.2"
  }
 },
 "nbformat": 4,
 "nbformat_minor": 2
}
